{
 "cells": [
  {
   "cell_type": "markdown",
   "id": "c5a19340",
   "metadata": {},
   "source": [
    "# Analysing Farmburg Game - A/B Test "
   ]
  },
  {
   "cell_type": "markdown",
   "id": "dd4f8afe",
   "metadata": {},
   "source": [
    "## Data-Preprocessing"
   ]
  },
  {
   "cell_type": "code",
   "execution_count": 1,
   "id": "78ac5e91",
   "metadata": {},
   "outputs": [],
   "source": [
    "# Import the libs\n",
    "import pandas as pd\n",
    "import numpy as np\n",
    "import matplotlib.pyplot as plt\n",
    "from scipy.stats import chi2_contingency\n",
    "from scipy.stats import binomtest"
   ]
  },
  {
   "cell_type": "code",
   "execution_count": 2,
   "id": "db4fa5d8",
   "metadata": {},
   "outputs": [
    {
     "data": {
      "text/html": [
       "<div>\n",
       "<style scoped>\n",
       "    .dataframe tbody tr th:only-of-type {\n",
       "        vertical-align: middle;\n",
       "    }\n",
       "\n",
       "    .dataframe tbody tr th {\n",
       "        vertical-align: top;\n",
       "    }\n",
       "\n",
       "    .dataframe thead th {\n",
       "        text-align: right;\n",
       "    }\n",
       "</style>\n",
       "<table border=\"1\" class=\"dataframe\">\n",
       "  <thead>\n",
       "    <tr style=\"text-align: right;\">\n",
       "      <th></th>\n",
       "      <th>user_id</th>\n",
       "      <th>group</th>\n",
       "      <th>is_purchase</th>\n",
       "    </tr>\n",
       "  </thead>\n",
       "  <tbody>\n",
       "    <tr>\n",
       "      <th>0</th>\n",
       "      <td>8e27bf9a</td>\n",
       "      <td>A</td>\n",
       "      <td>No</td>\n",
       "    </tr>\n",
       "    <tr>\n",
       "      <th>1</th>\n",
       "      <td>eb89e6f0</td>\n",
       "      <td>A</td>\n",
       "      <td>No</td>\n",
       "    </tr>\n",
       "    <tr>\n",
       "      <th>2</th>\n",
       "      <td>7119106a</td>\n",
       "      <td>A</td>\n",
       "      <td>No</td>\n",
       "    </tr>\n",
       "    <tr>\n",
       "      <th>3</th>\n",
       "      <td>e53781ff</td>\n",
       "      <td>A</td>\n",
       "      <td>No</td>\n",
       "    </tr>\n",
       "    <tr>\n",
       "      <th>4</th>\n",
       "      <td>02d48cf1</td>\n",
       "      <td>A</td>\n",
       "      <td>Yes</td>\n",
       "    </tr>\n",
       "  </tbody>\n",
       "</table>\n",
       "</div>"
      ],
      "text/plain": [
       "    user_id group is_purchase\n",
       "0  8e27bf9a     A          No\n",
       "1  eb89e6f0     A          No\n",
       "2  7119106a     A          No\n",
       "3  e53781ff     A          No\n",
       "4  02d48cf1     A         Yes"
      ]
     },
     "execution_count": 2,
     "metadata": {},
     "output_type": "execute_result"
    }
   ],
   "source": [
    "# display the results of the csv file\n",
    "ab_data = pd.read_csv(\"./clicks.csv\")\n",
    "ab_data.head()"
   ]
  },
  {
   "cell_type": "code",
   "execution_count": 3,
   "id": "d2eda02b",
   "metadata": {},
   "outputs": [
    {
     "name": "stdout",
     "output_type": "stream",
     "text": [
      "<class 'pandas.core.frame.DataFrame'>\n",
      "RangeIndex: 4998 entries, 0 to 4997\n",
      "Data columns (total 3 columns):\n",
      " #   Column       Non-Null Count  Dtype \n",
      "---  ------       --------------  ----- \n",
      " 0   user_id      4998 non-null   object\n",
      " 1   group        4998 non-null   object\n",
      " 2   is_purchase  4998 non-null   object\n",
      "dtypes: object(3)\n",
      "memory usage: 117.3+ KB\n"
     ]
    }
   ],
   "source": [
    "ab_data.info()"
   ]
  },
  {
   "cell_type": "markdown",
   "id": "69fc3325",
   "metadata": {},
   "source": [
    "There doesnt seem to be any null values or incorrect data types as the `user_id` column is made of alphanumeric letters."
   ]
  },
  {
   "cell_type": "markdown",
   "id": "4b76def8",
   "metadata": {},
   "source": [
    "Note that we have two categorical variables: `group` and `is_purchase`. We are interested in whether visitors are more likely to make a purchase if they are in any one group compared to the others. Because we want to know if there is an association between two categorical variables, we’ll start by using a Chi-Square test to address our question.\n",
    "\n",
    "In order to run a **Chi-Square test**, we first need to create a contingency table of the variables group and is_purchase."
   ]
  },
  {
   "cell_type": "code",
   "execution_count": 4,
   "id": "730362b4",
   "metadata": {},
   "outputs": [
    {
     "data": {
      "text/html": [
       "<div>\n",
       "<style scoped>\n",
       "    .dataframe tbody tr th:only-of-type {\n",
       "        vertical-align: middle;\n",
       "    }\n",
       "\n",
       "    .dataframe tbody tr th {\n",
       "        vertical-align: top;\n",
       "    }\n",
       "\n",
       "    .dataframe thead th {\n",
       "        text-align: right;\n",
       "    }\n",
       "</style>\n",
       "<table border=\"1\" class=\"dataframe\">\n",
       "  <thead>\n",
       "    <tr style=\"text-align: right;\">\n",
       "      <th>is_purchase</th>\n",
       "      <th>No</th>\n",
       "      <th>Yes</th>\n",
       "    </tr>\n",
       "    <tr>\n",
       "      <th>group</th>\n",
       "      <th></th>\n",
       "      <th></th>\n",
       "    </tr>\n",
       "  </thead>\n",
       "  <tbody>\n",
       "    <tr>\n",
       "      <th>A</th>\n",
       "      <td>1350</td>\n",
       "      <td>316</td>\n",
       "    </tr>\n",
       "    <tr>\n",
       "      <th>B</th>\n",
       "      <td>1483</td>\n",
       "      <td>183</td>\n",
       "    </tr>\n",
       "    <tr>\n",
       "      <th>C</th>\n",
       "      <td>1583</td>\n",
       "      <td>83</td>\n",
       "    </tr>\n",
       "  </tbody>\n",
       "</table>\n",
       "</div>"
      ],
      "text/plain": [
       "is_purchase    No  Yes\n",
       "group                 \n",
       "A            1350  316\n",
       "B            1483  183\n",
       "C            1583   83"
      ]
     },
     "execution_count": 4,
     "metadata": {},
     "output_type": "execute_result"
    }
   ],
   "source": [
    "df = pd.crosstab(ab_data[\"group\"],ab_data[\"is_purchase\"],dropna=False)\n",
    "df"
   ]
  },
  {
   "cell_type": "code",
   "execution_count": 5,
   "id": "109e514b",
   "metadata": {},
   "outputs": [
    {
     "name": "stdout",
     "output_type": "stream",
     "text": [
      "The p-value of the tabulation is: 2.412621354668426e-35\n"
     ]
    }
   ],
   "source": [
    "def contingency_test():\n",
    "    chi2, pval, dof, expected = chi2_contingency(df)\n",
    "    return chi2, pval\n",
    "chi2, pval = contingency_test()\n",
    "print(\"The p-value of the tabulation is: {}\".format(pval))"
   ]
  },
  {
   "cell_type": "code",
   "execution_count": 6,
   "id": "454df1ff",
   "metadata": {},
   "outputs": [
    {
     "data": {
      "text/html": [
       "<div>\n",
       "<style scoped>\n",
       "    .dataframe tbody tr th:only-of-type {\n",
       "        vertical-align: middle;\n",
       "    }\n",
       "\n",
       "    .dataframe tbody tr th {\n",
       "        vertical-align: top;\n",
       "    }\n",
       "\n",
       "    .dataframe thead th {\n",
       "        text-align: right;\n",
       "    }\n",
       "</style>\n",
       "<table border=\"1\" class=\"dataframe\">\n",
       "  <thead>\n",
       "    <tr style=\"text-align: right;\">\n",
       "      <th>is_purchase</th>\n",
       "      <th>No</th>\n",
       "      <th>Yes</th>\n",
       "      <th>total</th>\n",
       "      <th>percent_purchase</th>\n",
       "    </tr>\n",
       "    <tr>\n",
       "      <th>group</th>\n",
       "      <th></th>\n",
       "      <th></th>\n",
       "      <th></th>\n",
       "      <th></th>\n",
       "    </tr>\n",
       "  </thead>\n",
       "  <tbody>\n",
       "    <tr>\n",
       "      <th>A</th>\n",
       "      <td>1350</td>\n",
       "      <td>316</td>\n",
       "      <td>1666</td>\n",
       "      <td>18.967587</td>\n",
       "    </tr>\n",
       "    <tr>\n",
       "      <th>B</th>\n",
       "      <td>1483</td>\n",
       "      <td>183</td>\n",
       "      <td>1666</td>\n",
       "      <td>10.984394</td>\n",
       "    </tr>\n",
       "    <tr>\n",
       "      <th>C</th>\n",
       "      <td>1583</td>\n",
       "      <td>83</td>\n",
       "      <td>1666</td>\n",
       "      <td>4.981993</td>\n",
       "    </tr>\n",
       "  </tbody>\n",
       "</table>\n",
       "</div>"
      ],
      "text/plain": [
       "is_purchase    No  Yes  total  percent_purchase\n",
       "group                                          \n",
       "A            1350  316   1666         18.967587\n",
       "B            1483  183   1666         10.984394\n",
       "C            1583   83   1666          4.981993"
      ]
     },
     "execution_count": 6,
     "metadata": {},
     "output_type": "execute_result"
    }
   ],
   "source": [
    "df[\"total\"] = df[\"No\"] + df[\"Yes\"]\n",
    "df[\"percent_purchase\"] = (df[\"Yes\"]/df[\"total\"]).multiply(100)\n",
    "df"
   ]
  },
  {
   "cell_type": "markdown",
   "id": "5a4c3c41",
   "metadata": {},
   "source": [
    "## Univariate Anlaysis"
   ]
  },
  {
   "cell_type": "markdown",
   "id": "0e1b1232",
   "metadata": {},
   "source": [
    "We will need to calculate the necessary purchase rate for each price point. Let’s start by calculating the number of visitors to the site this week.\n",
    "\n",
    "It turns out that we ran the original test over the course of a week, so the number of visitors in abdata is equal to the number of visitors in a typical week. Calculate the number of visitors in the data "
   ]
  },
  {
   "cell_type": "code",
   "execution_count": 7,
   "id": "8c7c3037",
   "metadata": {},
   "outputs": [
    {
     "name": "stdout",
     "output_type": "stream",
     "text": [
      "The number of visitors each week is 4998\n"
     ]
    }
   ],
   "source": [
    "num_visits = len(ab_data)\n",
    "def num_sales(min_value,*vals):\n",
    "    # Calculate the number of visitors who need to purchase the upgraded price point.\n",
    "    \n",
    "    print(\"The number of visitors each week is {}\".format(num_visits))\n",
    "    \n",
    "    p_sales_needed = [min_value/vals[v] for v in range(len(vals)-1)]\n",
    "    \n",
    "    # To calculate the proportion of visits that would need to meet the \n",
    "    # $1,000 weekly goal for a different price points.\n",
    "    weekly_sales = [sales/num_visits for sales in p_sales_needed]\n",
    "\n",
    "    return weekly_sales\n",
    "# Calling the function\n",
    "p_sales_needed_099, p_sales_needed_199, p_sales_needed_499 = num_sales(1000,0.99,1.99,4,99)"
   ]
  },
  {
   "cell_type": "markdown",
   "id": "45c70431",
   "metadata": {},
   "source": [
    "#### Visualise the cross tab results."
   ]
  },
  {
   "cell_type": "code",
   "execution_count": 9,
   "id": "c87456f9",
   "metadata": {},
   "outputs": [
    {
     "data": {
      "image/png": "[encoded data removed]",
      "text/plain": [
       "<Figure size 1000x600 with 1 Axes>"
      ]
     },
     "metadata": {},
     "output_type": "display_data"
    }
   ],
   "source": [
    "# Setting the plot\n",
    "fig,ax = plt.subplots(figsize=(10,6))\n",
    "bars = ax.bar(df.index,df[\"percent_purchase\"].values,width=0.2,align=\"center\",label=\"Values\")\n",
    "\n",
    "# Loop through the bars and add annotations\n",
    "for bar in bars:\n",
    "    height = np.round(bar.get_height())\n",
    "    ax.annotate(text=f\"{height}%\",xy=(bar.get_x()+bar.get_width()/2,height),xytext=(0,1),\n",
    "                textcoords=\"offset points\",ha=\"center\",va=\"bottom\")\n",
    "\n",
    "# Detailing the plot\n",
    "ax.set_title(\"Visualising the purchase per group in percent\")\n",
    "ax.set_xlabel(\"Groups\")\n",
    "ax.set_yticks(np.arange(0,22.5,2.5))\n",
    "ax.set_ylabel(\"Percent\")\n",
    "ax.legend()\n",
    "\n",
    "# Showing the plot\n",
    "plt.show()\n",
    "plt.close(fig=fig)"
   ]
  },
  {
   "cell_type": "markdown",
   "id": "ebe31b79",
   "metadata": {},
   "source": [
    "##### The main objective here is to observe if Grp A ($0.99) price point is significantly greater than the percent of visitors who need to buy an upgrade package at $0.99 in order to make our minimum revenue target of $1,000.\n",
    "\n",
    "Since we have a sample of categorical data and want to compare to a hypothetical population value a binomial test will be used."
   ]
  },
  {
   "cell_type": "code",
   "execution_count": 10,
   "id": "020664ca",
   "metadata": {},
   "outputs": [],
   "source": [
    "# The number of visitors in grp A and the number of visitors in grpA who made a purchase.\n",
    "samp_size_099 = int(df.loc[df.index==\"A\",\"total\"].values[0])\n",
    "sales_099 = int(df.loc[df.index==\"A\",\"Yes\"].values[0])\n",
    "samp_size_199 = int(df.loc[df.index==\"B\",\"total\"].values[0])\n",
    "sales_199 = int(df.loc[df.index==\"B\",\"Yes\"].values[0])\n",
    "samp_size_499 = int(df.loc[df.index==\"C\",\"total\"].values[0])\n",
    "sales_499 = int(df.loc[df.index==\"C\",\"Yes\"].values[0])"
   ]
  },
  {
   "cell_type": "markdown",
   "id": "e178ff88",
   "metadata": {},
   "source": [
    "Lets perform a binomial test using `binomtest()` to see if the observed purchase rate is significantly greater than p_sales_needed_099"
   ]
  },
  {
   "cell_type": "code",
   "execution_count": 11,
   "id": "7f17b78f",
   "metadata": {},
   "outputs": [
    {
     "name": "stdout",
     "output_type": "stream",
     "text": [
      "The Binom test result for group A: BinomTestResult(k=316, n=1666, alternative='greater', statistic=0.18967587034813926, pvalue=0.9028081076188554)\n",
      "The Binom test result for group B: BinomTestResult(k=183, n=1666, alternative='greater', statistic=0.10984393757503001, pvalue=0.11184562623740596)\n",
      "The Binom test result for group C: BinomTestResult(k=83, n=1666, alternative='greater', statistic=0.04981992797118848, pvalue=0.027944826659830616)\n"
     ]
    }
   ],
   "source": [
    "resultA = binomtest(k=sales_099,n=samp_size_099,p=p_sales_needed_099,alternative=\"greater\")\n",
    "resultB = binomtest(k=sales_199,n=samp_size_199,p=p_sales_needed_199,alternative=\"greater\")\n",
    "resultC = binomtest(k=sales_499,n=samp_size_499,p=p_sales_needed_499,alternative=\"greater\")\n",
    "print(\"The Binom test result for group A: {}\".format(resultA))\n",
    "print(\"The Binom test result for group B: {}\".format(resultB))\n",
    "print(\"The Binom test result for group C: {}\".format(resultC))"
   ]
  },
  {
   "cell_type": "markdown",
   "id": "130601c1",
   "metadata": {},
   "source": [
    "# Conclusions:\n",
    "`resultC` is the only p-value below the threshold of 0.05. Therefore, the C group is the only group where we would conclude that the purchase rate is significantly higher than the target needed to reach $1000 revenue per week. Therefore, Brian should charge $4.99 for the upgrade."
   ]
  }
 ],
 "metadata": {
  "kernelspec": {
   "display_name": ".venv",
   "language": "python",
   "name": "python3"
  },
  "language_info": {
   "codemirror_mode": {
    "name": "ipython",
    "version": 3
   },
   "file_extension": ".py",
   "mimetype": "text/x-python",
   "name": "python",
   "nbconvert_exporter": "python",
   "pygments_lexer": "ipython3",
   "version": "3.13.0"
  }
 },
 "nbformat": 4,
 "nbformat_minor": 5
}
