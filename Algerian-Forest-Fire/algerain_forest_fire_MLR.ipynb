{
 "cells": [
  {
   "cell_type": "markdown",
   "id": "9880e465",
   "metadata": {},
   "source": [
    "# Introduction"
   ]
  },
  {
   "cell_type": "markdown",
   "id": "cc0ab094",
   "metadata": {},
   "source": [
    "## Data Pre-processing (Importing libs, etc...)"
   ]
  },
  {
   "cell_type": "markdown",
   "id": "28019ff7",
   "metadata": {},
   "source": []
  },
  {
   "cell_type": "code",
   "execution_count": null,
   "id": "d394f5c6",
   "metadata": {},
   "outputs": [],
   "source": [
    "# Importing required libraries\n",
    "import pandas as pd\n",
    "import seaborn as sns\n",
    "import matplotlib.pyplot as plt\n",
    "import statsmodels.api as sm\n",
    "import numpy as np\n",
    "\n",
    "%matplotlib inline\n",
    "\n",
    "pd.set_option(\"display.max_rows\",300)\n",
    "pd.set_option(\"display.max_columns\",100)\n"
   ]
  },
  {
   "cell_type": "markdown",
   "id": "b271363a",
   "metadata": {},
   "source": [
    "Cleaning the data - the data seems ot be split into 2 regions, combining the data of both regions and creating a new column called regions with the name displayed in the column. The day, month and year column will be combined into a single date-time column. The classes column will be renamed as \"fire\" and will have True and False values rather than the \"not fire\" values."
   ]
  },
  {
   "cell_type": "code",
   "execution_count": null,
   "id": "815d70b1",
   "metadata": {},
   "outputs": [],
   "source": [
    "# Reading the dataset\n",
    "df = pd.read_csv(\"./Algerian_forest_fires_dataset_UPDATE.csv\",header=[1],skipinitialspace=True)\n",
    "\n",
    "# Splitting the csv file and then combining them depending on region.\n",
    "splt_index = len(df)//2\n",
    "dataset_a,dataset_b = df.iloc[:splt_index].copy(),df.iloc[splt_index:].copy()\n",
    "dataset_a.loc[:,\"region\"] = \"Bejaia\"\n",
    "dataset_b.loc[:,\"region\"] = \"Sidi-Bel Abbes\"\n",
    "df = pd.concat([dataset_a,dataset_b]).reset_index(drop=True)\n",
    "\n",
    "# Converting the day, month and year columns into datetime format\n",
    "df[\"date\"] = pd.to_datetime(df[[\"day\",\"month\",\"year\"]],errors=\"coerce\",dayfirst=True)\n",
    "df = df.drop(columns=[\"day\",\"month\",\"year\"])\n",
    "df.head()"
   ]
  },
  {
   "cell_type": "markdown",
   "id": "a71548d7",
   "metadata": {},
   "source": [
    "Lets rename the columns to something a bit more descriptive."
   ]
  },
  {
   "cell_type": "code",
   "execution_count": null,
   "id": "a02d652a",
   "metadata": {},
   "outputs": [],
   "source": [
    "df.columns = df.columns.str.strip()"
   ]
  },
  {
   "cell_type": "code",
   "execution_count": null,
   "id": "75cedd3a",
   "metadata": {},
   "outputs": [],
   "source": [
    "# Renaming the columns and data values.\n",
    "df = df.rename(columns={\"Temperature\":\"temp\",\"RH\":\"humid\",\"Classes\":\"fire\",\"Ws\":\"wind\"})\n",
    "df[\"fire\"] = df[\"fire\"].str.strip()\n",
    "df[[\"fire\"]] = np.where(df[[\"fire\"]]==\"not fire\",False,True)\n",
    "df.head()"
   ]
  },
  {
   "cell_type": "code",
   "execution_count": null,
   "id": "e8e6656d",
   "metadata": {},
   "outputs": [],
   "source": [
    "# Dropping the rows with nan values in date columns\n",
    "df = df.drop(df[df[\"date\"].isna()].index)"
   ]
  },
  {
   "cell_type": "code",
   "execution_count": null,
   "id": "3c7b72eb",
   "metadata": {},
   "outputs": [],
   "source": [
    "df.info()"
   ]
  },
  {
   "cell_type": "code",
   "execution_count": null,
   "id": "d209f988",
   "metadata": {},
   "outputs": [],
   "source": [
    "# Converting all numeric columns with correct dtype.\n",
    "headers = [cols for cols in df.select_dtypes(include=\"object\")][:-1]\n",
    "\n",
    "# Checking all rows contain only digits and replace letters with mmost common number.\n",
    "incorrect_col = df.drop(df[df[\"FWI\"].str.contains(pat=r\"^[0-9]\",regex=True)].index)\n",
    "df[\"FWI\"] = df[\"FWI\"].replace(incorrect_col[\"FWI\"].values,df[\"FWI\"].mode())\n",
    "\n",
    "# Converting all digits as float32.\n",
    "df[headers] = df[headers].apply(lambda x: x.str.replace(\" \",\"\").astype(dtype=np.float32))"
   ]
  },
  {
   "cell_type": "code",
   "execution_count": null,
   "id": "09895ffb",
   "metadata": {},
   "outputs": [],
   "source": [
    "df.info()\n"
   ]
  },
  {
   "cell_type": "markdown",
   "id": "cd325836",
   "metadata": {},
   "source": [
    "## Univariate Analysis"
   ]
  },
  {
   "cell_type": "markdown",
   "id": "69223da1",
   "metadata": {},
   "source": [
    "In this section we are answering the following questions:\n",
    "+ The frequencies/counts of details of fire in 2 main areas.\n",
    "+ Distribution of the details using a boxplot to better understand the complexity.\n"
   ]
  },
  {
   "cell_type": "code",
   "execution_count": null,
   "id": "5b29368a",
   "metadata": {},
   "outputs": [],
   "source": [
    "def plot_columns(df):\n",
    "    name_cols = df.select_dtypes(include=np.number).columns\n",
    "    num_cols = len(name_cols)\n",
    "    n_rows = 2\n",
    "    n_cols = int(np.ceil(num_cols/n_rows))\n",
    "    f,axes = plt.subplots(nrows=n_rows, ncols=n_cols,sharex=True,sharey=False,figsize=(3*n_cols,5))\n",
    "    if num_cols==1:\n",
    "        axes = [axes]\n",
    "    else:\n",
    "        axes = axes.flatten()\n",
    "    \n",
    "    for i,col in enumerate(name_cols):\n",
    "        sns.barplot(x=df[\"region\"],y=df[col].values,ax=axes[i])\n",
    "        axes[i].set_title(f\"Count of {col}\")\n",
    "        axes[i].set_xlabel(f\"{col}\")\n",
    "        axes[i].set_ylabel(\"Value Count\")\n",
    "    \n",
    "    # Hide unused subplots (if num_cols isn't evenly divisible by nrows)\n",
    "\n",
    "    for j in range(i+1, len(axes)):\n",
    "        f.delaxes(axes[j])\n",
    "    plt.tight_layout()\n",
    "    plt.subplots_adjust(wspace=0.5,hspace=0.2)\n",
    "    plt.show()\n",
    "    plt.close()\n",
    "    \n",
    "plot_columns(df)"
   ]
  },
  {
   "cell_type": "markdown",
   "id": "080a0ca5",
   "metadata": {},
   "source": [
    "- temp – maximum temperature in degrees Celsius\n",
    "- humid – relative humidity as a percentage\n",
    "- region – location in Bejaia in the northeast of Algeria or Sidi Bel-abbes in the northwest of Algeria\n",
    "- FFMC – Fine Fuel Moisture Code: measure of forest litter fuel moisture that incorporates temperature, humidity, wind, and rain\n",
    "- ISI – Initial Spread Index: estimates spread potential of fire\n",
    "- BUI – Buildup Index: estimates potential release of heat\n",
    "- FWI – Fire Weather Index: measure of general fire intensity potential that incorporates ISI and BUI"
   ]
  },
  {
   "cell_type": "code",
   "execution_count": null,
   "id": "a6165794",
   "metadata": {},
   "outputs": [],
   "source": [
    "df['year_month'] = df.date.dt.strftime(\"%Y-%m\")\n",
    "_df = pd.concat([df[\"temp\"], df[\"year_month\"], df[\"region\"]],axis=1)\n",
    "_df.groupby([\"year_month\",\"region\"])[\"temp\"].mean()"
   ]
  },
  {
   "cell_type": "markdown",
   "id": "eebdc080",
   "metadata": {},
   "source": [
    "## Multivariate Analysis"
   ]
  },
  {
   "cell_type": "markdown",
   "id": "b45d574e",
   "metadata": {},
   "source": [
    "Checking the multilinearity assumption"
   ]
  },
  {
   "cell_type": "code",
   "execution_count": null,
   "id": "b6282100",
   "metadata": {},
   "outputs": [],
   "source": [
    "#check multicollinearity with a heatmap\n",
    "corr_grid = df.select_dtypes(include=np.number).corr()\n",
    "plt.subplots(figsize=(10,6))\n",
    "sns.heatmap(corr_grid, xticklabels=corr_grid.columns, yticklabels=corr_grid.columns, annot=True)\n",
    "plt.show()\n",
    "plt.clf()"
   ]
  },
  {
   "cell_type": "markdown",
   "id": "d2b58575",
   "metadata": {},
   "source": [
    "Lets compare the relatiosnhip between humidity and temperature"
   ]
  },
  {
   "cell_type": "code",
   "execution_count": null,
   "id": "aefadf67",
   "metadata": {},
   "outputs": [],
   "source": [
    "f,ax = plt.subplots(figsize=(10,6))\n",
    "sns.scatterplot(data=df,x=\"temp\",y=\"humid\",hue=\"region\",legend=\"auto\")\n",
    "plt.title(\"Relationship between humidity and temperature\")\n",
    "plt.xlabel(\"Temperature\")\n",
    "plt.ylabel(\"Humidity\")\n",
    "plt.show()\n",
    "plt.close()"
   ]
  },
  {
   "cell_type": "markdown",
   "id": "8e1bb319",
   "metadata": {},
   "source": [
    "# Machine learning Regression Model"
   ]
  },
  {
   "cell_type": "markdown",
   "id": "46991129",
   "metadata": {},
   "source": [
    "Running the multiple linear regression model"
   ]
  },
  {
   "cell_type": "markdown",
   "id": "a2481ae4",
   "metadata": {},
   "source": [
    "Methodology: \n",
    "+ Standard scalar/ normalisation\n",
    "+ categorical values - convert true/false value to 1 and 0\n",
    "+ predition score\n",
    "+ draw a correlation map "
   ]
  },
  {
   "cell_type": "markdown",
   "id": "19339361",
   "metadata": {},
   "source": [
    "# Conclusions"
   ]
  }
 ],
 "metadata": {
  "kernelspec": {
   "display_name": ".venv",
   "language": "python",
   "name": "python3"
  },
  "language_info": {
   "codemirror_mode": {
    "name": "ipython",
    "version": 3
   },
   "file_extension": ".py",
   "mimetype": "text/x-python",
   "name": "python",
   "nbconvert_exporter": "python",
   "pygments_lexer": "ipython3",
   "version": "3.13.0"
  }
 },
 "nbformat": 4,
 "nbformat_minor": 5
}
