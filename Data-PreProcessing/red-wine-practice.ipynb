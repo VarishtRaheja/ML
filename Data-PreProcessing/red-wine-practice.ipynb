{
 "cells": [
  {
   "cell_type": "code",
   "execution_count": 2,
   "metadata": {},
   "outputs": [],
   "source": [
    "# Import necessary libraries\n",
    "\n",
    "import pandas as pd\n",
    "import numpy as np\n",
    "from sklearn.preprocessing import StandardScaler\n",
    "from sklearn.model_selection import train_test_split\n",
    "\n",
    "pd.set_option(\"display.max_columns\",100)"
   ]
  },
  {
   "cell_type": "code",
   "execution_count": 13,
   "metadata": {},
   "outputs": [
    {
     "name": "stdout",
     "output_type": "stream",
     "text": [
      "[[-3.33991288e-01  2.42581186e-01 -9.63136787e-01 ... -4.42561113e-01\n",
      "   6.34928030e-02 -7.55088351e-01]\n",
      " [-2.78643172e-01 -9.49230728e-02 -4.94583756e-01 ...  5.19964189e-01\n",
      "  -1.15964614e+00 -8.44713081e-01]\n",
      " [ 1.32645219e+00  8.61338994e-01 -2.34276516e-01 ... -1.85887699e-01\n",
      "   2.23796204e+00 -4.86214161e-01]\n",
      " ...\n",
      " [-1.90259149e-03  4.67584025e-01 -7.80921719e-02 ... -1.02007629e+00\n",
      "  -8.19885325e-01 -5.75838891e-01]\n",
      " [ 2.74837989e-01 -1.38868940e+00  6.50768099e-01 ... -1.02007629e+00\n",
      "   2.67349294e-01  6.78907330e-01]\n",
      " [ 4.40882337e-01  1.39572074e+00 -1.17138258e+00 ... -1.21719346e-01\n",
      "  -7.51933161e-01 -6.65463621e-01]]\n"
     ]
    }
   ],
   "source": [
    "\n",
    "# Load the Wine Quality Red dataset\n",
    "wine_df = pd.read_csv(\"./red-wine.csv\",sep=\";\")\n",
    "\n",
    "# Separate features and target\n",
    "features = wine_df.iloc[:,:-1]\n",
    "target = wine_df.iloc[:,-1]\n",
    "\n",
    "# Split the dataset into an 80-20 training-test set\n",
    "f_test,f_train,t_test,t_train = train_test_split(features,target,test_size=0.2,random_state=42)\n",
    "\n",
    "# Create an instance of the StandardScaler class\n",
    "sc = StandardScaler()\n",
    "\n",
    "# Fit the StandardScaler on the features from the training set and transform it\n",
    "f_train= sc.fit_transform(f_train)\n",
    "\n",
    "# Apply the transform to the test set\n",
    "f_test = sc.transform(f_test)\n",
    "\n",
    "# Print the scaled training and test datasets\n",
    "print(f_train)"
   ]
  },
  {
   "cell_type": "code",
   "execution_count": 15,
   "metadata": {},
   "outputs": [
    {
     "name": "stdout",
     "output_type": "stream",
     "text": [
      "[[ 0.21948987  0.97384041  0.23427652 ...  1.09747937  0.60711011\n",
      "   1.03740625]\n",
      " [-1.21956115 -1.72619366  0.70282955 ... -0.37839276 -0.41217234\n",
      "   1.30628044]\n",
      " [ 1.43714843 -0.71368088  1.06725968 ... -0.05755099  0.67506228\n",
      "  -0.57583889]\n",
      " ...\n",
      " [-0.61073187  0.58008545 -1.06725968 ...  1.28998443 -0.75193316\n",
      "  -0.84471308]\n",
      " [-0.22329506 -1.78244437  0.44252231 ...  0.07078571  1.01482309\n",
      "   1.30628044]\n",
      " [-1.38560549 -1.27618798 -0.02603072 ...  0.51996419 -0.75193316\n",
      "   2.74027612]]\n"
     ]
    }
   ],
   "source": [
    "print(f_test)"
   ]
  }
 ],
 "metadata": {
  "kernelspec": {
   "display_name": ".venv",
   "language": "python",
   "name": "python3"
  },
  "language_info": {
   "codemirror_mode": {
    "name": "ipython",
    "version": 3
   },
   "file_extension": ".py",
   "mimetype": "text/x-python",
   "name": "python",
   "nbconvert_exporter": "python",
   "pygments_lexer": "ipython3",
   "version": "3.13.0"
  }
 },
 "nbformat": 4,
 "nbformat_minor": 2
}
